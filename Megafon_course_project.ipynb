{
  "cells": [
    {
      "cell_type": "markdown",
      "metadata": {
        "id": "view-in-github",
        "colab_type": "text"
      },
      "source": [
        "<a href=\"https://colab.research.google.com/github/ddekun/Megafon_course_project/blob/Megafon_course_project/Megafon_course_project.ipynb\" target=\"_parent\"><img src=\"https://colab.research.google.com/assets/colab-badge.svg\" alt=\"Open In Colab\"/></a>"
      ]
    },
    {
      "cell_type": "markdown",
      "id": "908fa9ea",
      "metadata": {
        "id": "908fa9ea"
      },
      "source": [
        "# Курсовая работа. Мегафон.\n",
        "\n",
        "Необходимо построить алгоритм, который для каждой пары пользователь-услуга определит вероятность\n",
        "подключения услуги."
      ]
    },
    {
      "cell_type": "markdown",
      "id": "ba10e52d",
      "metadata": {
        "id": "ba10e52d"
      },
      "source": [
        "- id - идентификатор абонента\n",
        "- vas_id - подключаемая услуга\n",
        "- buy_time - время покупки, представлено в формате timestamp, для работы с этим столбцом понадобится функция datetime.fromtimestamp из модуля datetime\n",
        "- target - целевая переменная, где 1 означает подключение услуги, 0 - абонент не подключил услугу соответственно. "
      ]
    },
    {
      "cell_type": "code",
      "execution_count": null,
      "id": "b0f6301e",
      "metadata": {
        "id": "b0f6301e"
      },
      "outputs": [],
      "source": [
        "import numpy as np\n",
        "import pandas as pd\n",
        "\n",
        "from sklearn.linear_model import LogisticRegression\n",
        "from sklearn.ensemble import GradientBoostingRegressor\n",
        "from sklearn.ensemble import GradientBoostingClassifier\n",
        "from sklearn.preprocessing import StandardScaler, OneHotEncoder\n",
        "from sklearn.impute import SimpleImputer\n",
        "from sklearn.metrics import mean_squared_error\n",
        "from sklearn.metrics import classification_report\n",
        "from sklearn.base import BaseEstimator, TransformerMixin\n",
        "from sklearn.pipeline import Pipeline\n",
        "from sklearn.pipeline import FeatureUnion, make_pipeline\n",
        "\n",
        "import matplotlib.pyplot as plt\n",
        "%matplotlib inline\n",
        "\n",
        "import dask.dataframe as dd\n",
        "from datetime import datetime, date, time\n",
        "import pickle\n",
        "import time\n",
        "\n",
        "import warnings\n",
        "warnings.filterwarnings(\"ignore\")"
      ]
    },
    {
      "cell_type": "code",
      "execution_count": null,
      "id": "c1adf47c",
      "metadata": {
        "id": "c1adf47c"
      },
      "outputs": [],
      "source": [
        "path_train = 'data_train.csv'\n",
        "path_test = 'data_test.csv'\n",
        "path_features = 'features.csv'\n",
        "path_pred = 'answers_test.csv'\n",
        "MODEL_FILE_PATH = 'model.pkl'"
      ]
    },
    {
      "cell_type": "markdown",
      "id": "676220f8",
      "metadata": {
        "id": "676220f8"
      },
      "source": [
        "### Загрузка данных"
      ]
    },
    {
      "cell_type": "code",
      "execution_count": null,
      "id": "e7477c89",
      "metadata": {
        "id": "e7477c89"
      },
      "outputs": [],
      "source": [
        "df_train = pd.read_csv(path_train)\n",
        "df_test = pd.read_csv(path_test)"
      ]
    },
    {
      "cell_type": "code",
      "execution_count": null,
      "id": "469e00a7",
      "metadata": {
        "id": "469e00a7"
      },
      "outputs": [],
      "source": [
        "df_train['buy_time'] = df_train['buy_time'].apply(lambda x: date.fromtimestamp(x))\n",
        "df_test['buy_time'] = df_test['buy_time'].apply(lambda x: date.fromtimestamp(x))"
      ]
    },
    {
      "cell_type": "code",
      "execution_count": null,
      "id": "63e8cf6f",
      "metadata": {
        "id": "63e8cf6f",
        "outputId": "b8d4681c-51e2-4fd2-8891-7f76f3d4a6a9"
      },
      "outputs": [
        {
          "data": {
            "text/html": [
              "<div>\n",
              "<style scoped>\n",
              "    .dataframe tbody tr th:only-of-type {\n",
              "        vertical-align: middle;\n",
              "    }\n",
              "\n",
              "    .dataframe tbody tr th {\n",
              "        vertical-align: top;\n",
              "    }\n",
              "\n",
              "    .dataframe thead th {\n",
              "        text-align: right;\n",
              "    }\n",
              "</style>\n",
              "<table border=\"1\" class=\"dataframe\">\n",
              "  <thead>\n",
              "    <tr style=\"text-align: right;\">\n",
              "      <th></th>\n",
              "      <th>Unnamed: 0</th>\n",
              "      <th>id</th>\n",
              "      <th>vas_id</th>\n",
              "      <th>buy_time</th>\n",
              "      <th>target</th>\n",
              "    </tr>\n",
              "  </thead>\n",
              "  <tbody>\n",
              "    <tr>\n",
              "      <th>0</th>\n",
              "      <td>0</td>\n",
              "      <td>540968</td>\n",
              "      <td>8.0</td>\n",
              "      <td>2018-09-17</td>\n",
              "      <td>0.0</td>\n",
              "    </tr>\n",
              "    <tr>\n",
              "      <th>1</th>\n",
              "      <td>1</td>\n",
              "      <td>1454121</td>\n",
              "      <td>4.0</td>\n",
              "      <td>2018-07-16</td>\n",
              "      <td>0.0</td>\n",
              "    </tr>\n",
              "    <tr>\n",
              "      <th>2</th>\n",
              "      <td>2</td>\n",
              "      <td>2458816</td>\n",
              "      <td>1.0</td>\n",
              "      <td>2018-08-13</td>\n",
              "      <td>0.0</td>\n",
              "    </tr>\n",
              "    <tr>\n",
              "      <th>3</th>\n",
              "      <td>3</td>\n",
              "      <td>3535012</td>\n",
              "      <td>5.0</td>\n",
              "      <td>2018-09-03</td>\n",
              "      <td>0.0</td>\n",
              "    </tr>\n",
              "    <tr>\n",
              "      <th>4</th>\n",
              "      <td>4</td>\n",
              "      <td>1693214</td>\n",
              "      <td>1.0</td>\n",
              "      <td>2018-09-03</td>\n",
              "      <td>0.0</td>\n",
              "    </tr>\n",
              "  </tbody>\n",
              "</table>\n",
              "</div>"
            ],
            "text/plain": [
              "   Unnamed: 0       id  vas_id    buy_time  target\n",
              "0           0   540968     8.0  2018-09-17     0.0\n",
              "1           1  1454121     4.0  2018-07-16     0.0\n",
              "2           2  2458816     1.0  2018-08-13     0.0\n",
              "3           3  3535012     5.0  2018-09-03     0.0\n",
              "4           4  1693214     1.0  2018-09-03     0.0"
            ]
          },
          "execution_count": 5,
          "metadata": {},
          "output_type": "execute_result"
        }
      ],
      "source": [
        "df_train.head()"
      ]
    },
    {
      "cell_type": "code",
      "execution_count": null,
      "id": "e3bdd9ad",
      "metadata": {
        "id": "e3bdd9ad",
        "outputId": "6979a2a8-e0b1-48ba-d3d9-f31249b2f449"
      },
      "outputs": [
        {
          "data": {
            "text/html": [
              "<div>\n",
              "<style scoped>\n",
              "    .dataframe tbody tr th:only-of-type {\n",
              "        vertical-align: middle;\n",
              "    }\n",
              "\n",
              "    .dataframe tbody tr th {\n",
              "        vertical-align: top;\n",
              "    }\n",
              "\n",
              "    .dataframe thead th {\n",
              "        text-align: right;\n",
              "    }\n",
              "</style>\n",
              "<table border=\"1\" class=\"dataframe\">\n",
              "  <thead>\n",
              "    <tr style=\"text-align: right;\">\n",
              "      <th></th>\n",
              "      <th>Unnamed: 0</th>\n",
              "      <th>id</th>\n",
              "      <th>buy_time</th>\n",
              "      <th>0</th>\n",
              "      <th>1</th>\n",
              "      <th>2</th>\n",
              "      <th>3</th>\n",
              "      <th>4</th>\n",
              "      <th>5</th>\n",
              "      <th>6</th>\n",
              "      <th>...</th>\n",
              "      <th>243</th>\n",
              "      <th>244</th>\n",
              "      <th>245</th>\n",
              "      <th>246</th>\n",
              "      <th>247</th>\n",
              "      <th>248</th>\n",
              "      <th>249</th>\n",
              "      <th>250</th>\n",
              "      <th>251</th>\n",
              "      <th>252</th>\n",
              "    </tr>\n",
              "  </thead>\n",
              "  <tbody>\n",
              "    <tr>\n",
              "      <th>0</th>\n",
              "      <td>0</td>\n",
              "      <td>2013026</td>\n",
              "      <td>2018-07-16</td>\n",
              "      <td>18.910029</td>\n",
              "      <td>46.980888</td>\n",
              "      <td>4.969214</td>\n",
              "      <td>-1.386798</td>\n",
              "      <td>3.791754</td>\n",
              "      <td>-14.01179</td>\n",
              "      <td>-16.08618</td>\n",
              "      <td>...</td>\n",
              "      <td>-977.373846</td>\n",
              "      <td>-613.770792</td>\n",
              "      <td>-25.996269</td>\n",
              "      <td>-37.630448</td>\n",
              "      <td>-301.747724</td>\n",
              "      <td>-25.832889</td>\n",
              "      <td>-0.694428</td>\n",
              "      <td>-12.175933</td>\n",
              "      <td>-0.45614</td>\n",
              "      <td>0.0</td>\n",
              "    </tr>\n",
              "    <tr>\n",
              "      <th>1</th>\n",
              "      <td>1</td>\n",
              "      <td>2014722</td>\n",
              "      <td>2018-10-15</td>\n",
              "      <td>36.690029</td>\n",
              "      <td>152.400888</td>\n",
              "      <td>448.069214</td>\n",
              "      <td>563.833202</td>\n",
              "      <td>463.841754</td>\n",
              "      <td>568.99821</td>\n",
              "      <td>-16.08618</td>\n",
              "      <td>...</td>\n",
              "      <td>-891.373846</td>\n",
              "      <td>-544.770792</td>\n",
              "      <td>-20.996269</td>\n",
              "      <td>48.369552</td>\n",
              "      <td>80.252276</td>\n",
              "      <td>-13.832889</td>\n",
              "      <td>-0.694428</td>\n",
              "      <td>-1.175933</td>\n",
              "      <td>-0.45614</td>\n",
              "      <td>0.0</td>\n",
              "    </tr>\n",
              "    <tr>\n",
              "      <th>2</th>\n",
              "      <td>2</td>\n",
              "      <td>2015199</td>\n",
              "      <td>2018-12-24</td>\n",
              "      <td>-67.019971</td>\n",
              "      <td>157.050888</td>\n",
              "      <td>-63.180786</td>\n",
              "      <td>178.103202</td>\n",
              "      <td>-68.598246</td>\n",
              "      <td>156.99821</td>\n",
              "      <td>3.51382</td>\n",
              "      <td>...</td>\n",
              "      <td>-977.373846</td>\n",
              "      <td>-613.770792</td>\n",
              "      <td>-12.996269</td>\n",
              "      <td>-37.630448</td>\n",
              "      <td>10829.252276</td>\n",
              "      <td>-25.832889</td>\n",
              "      <td>-0.694428</td>\n",
              "      <td>-12.175933</td>\n",
              "      <td>-0.45614</td>\n",
              "      <td>0.0</td>\n",
              "    </tr>\n",
              "    <tr>\n",
              "      <th>3</th>\n",
              "      <td>3</td>\n",
              "      <td>2021765</td>\n",
              "      <td>2018-08-13</td>\n",
              "      <td>7.010029</td>\n",
              "      <td>150.200888</td>\n",
              "      <td>-6.930786</td>\n",
              "      <td>216.213202</td>\n",
              "      <td>76.621754</td>\n",
              "      <td>351.84821</td>\n",
              "      <td>-16.08618</td>\n",
              "      <td>...</td>\n",
              "      <td>-973.373846</td>\n",
              "      <td>-613.770792</td>\n",
              "      <td>-23.996269</td>\n",
              "      <td>-37.630448</td>\n",
              "      <td>-205.747724</td>\n",
              "      <td>-24.832889</td>\n",
              "      <td>-0.694428</td>\n",
              "      <td>-11.175933</td>\n",
              "      <td>-0.45614</td>\n",
              "      <td>1.0</td>\n",
              "    </tr>\n",
              "    <tr>\n",
              "      <th>4</th>\n",
              "      <td>4</td>\n",
              "      <td>2027465</td>\n",
              "      <td>2018-08-06</td>\n",
              "      <td>-90.439971</td>\n",
              "      <td>134.220888</td>\n",
              "      <td>-104.380786</td>\n",
              "      <td>153.643202</td>\n",
              "      <td>-109.798246</td>\n",
              "      <td>132.53821</td>\n",
              "      <td>-16.08618</td>\n",
              "      <td>...</td>\n",
              "      <td>1643.626154</td>\n",
              "      <td>2007.229208</td>\n",
              "      <td>206.003731</td>\n",
              "      <td>-21.630448</td>\n",
              "      <td>6667.252276</td>\n",
              "      <td>92.167111</td>\n",
              "      <td>-0.694428</td>\n",
              "      <td>49.824067</td>\n",
              "      <td>47.54386</td>\n",
              "      <td>0.0</td>\n",
              "    </tr>\n",
              "  </tbody>\n",
              "</table>\n",
              "<p>5 rows × 256 columns</p>\n",
              "</div>"
            ],
            "text/plain": [
              "   Unnamed: 0       id    buy_time          0           1           2  \\\n",
              "0           0  2013026  2018-07-16  18.910029   46.980888    4.969214   \n",
              "1           1  2014722  2018-10-15  36.690029  152.400888  448.069214   \n",
              "2           2  2015199  2018-12-24 -67.019971  157.050888  -63.180786   \n",
              "3           3  2021765  2018-08-13   7.010029  150.200888   -6.930786   \n",
              "4           4  2027465  2018-08-06 -90.439971  134.220888 -104.380786   \n",
              "\n",
              "            3           4          5         6  ...          243          244  \\\n",
              "0   -1.386798    3.791754  -14.01179 -16.08618  ...  -977.373846  -613.770792   \n",
              "1  563.833202  463.841754  568.99821 -16.08618  ...  -891.373846  -544.770792   \n",
              "2  178.103202  -68.598246  156.99821   3.51382  ...  -977.373846  -613.770792   \n",
              "3  216.213202   76.621754  351.84821 -16.08618  ...  -973.373846  -613.770792   \n",
              "4  153.643202 -109.798246  132.53821 -16.08618  ...  1643.626154  2007.229208   \n",
              "\n",
              "          245        246           247        248       249        250  \\\n",
              "0  -25.996269 -37.630448   -301.747724 -25.832889 -0.694428 -12.175933   \n",
              "1  -20.996269  48.369552     80.252276 -13.832889 -0.694428  -1.175933   \n",
              "2  -12.996269 -37.630448  10829.252276 -25.832889 -0.694428 -12.175933   \n",
              "3  -23.996269 -37.630448   -205.747724 -24.832889 -0.694428 -11.175933   \n",
              "4  206.003731 -21.630448   6667.252276  92.167111 -0.694428  49.824067   \n",
              "\n",
              "        251  252  \n",
              "0  -0.45614  0.0  \n",
              "1  -0.45614  0.0  \n",
              "2  -0.45614  0.0  \n",
              "3  -0.45614  1.0  \n",
              "4  47.54386  0.0  \n",
              "\n",
              "[5 rows x 256 columns]"
            ]
          },
          "execution_count": 6,
          "metadata": {},
          "output_type": "execute_result"
        }
      ],
      "source": [
        "df_features = dd.read_csv('features.csv', sep='\\t')\n",
        "df_features['buy_time'] = df_features['buy_time'].apply(lambda x: date.fromtimestamp(x), meta=('buy_time', 'object'))\n",
        "df_features.head()"
      ]
    },
    {
      "cell_type": "code",
      "execution_count": null,
      "id": "3427dc28",
      "metadata": {
        "id": "3427dc28"
      },
      "outputs": [],
      "source": [
        "df_merge = dd.merge(df_train, df_features, on=['id', 'buy_time'], how='inner')\n",
        "df_merge_test = dd.merge(df_test, df_features, on=['id', 'buy_time'], how='inner')"
      ]
    },
    {
      "cell_type": "code",
      "execution_count": null,
      "id": "5dd5aa68",
      "metadata": {
        "id": "5dd5aa68"
      },
      "outputs": [],
      "source": [
        "# Перевод из dask в pandas\n",
        "\n",
        "df_merge = df_merge.compute()\n",
        "df_merge_test = df_merge_test.compute()"
      ]
    },
    {
      "cell_type": "code",
      "execution_count": null,
      "id": "69fa6c2c",
      "metadata": {
        "id": "69fa6c2c",
        "outputId": "92c64ea6-56f5-4f88-989c-991c2323e450"
      },
      "outputs": [
        {
          "data": {
            "text/html": [
              "<div>\n",
              "<style scoped>\n",
              "    .dataframe tbody tr th:only-of-type {\n",
              "        vertical-align: middle;\n",
              "    }\n",
              "\n",
              "    .dataframe tbody tr th {\n",
              "        vertical-align: top;\n",
              "    }\n",
              "\n",
              "    .dataframe thead th {\n",
              "        text-align: right;\n",
              "    }\n",
              "</style>\n",
              "<table border=\"1\" class=\"dataframe\">\n",
              "  <thead>\n",
              "    <tr style=\"text-align: right;\">\n",
              "      <th></th>\n",
              "      <th>Unnamed: 0_x</th>\n",
              "      <th>id</th>\n",
              "      <th>vas_id</th>\n",
              "      <th>target</th>\n",
              "      <th>Unnamed: 0_y</th>\n",
              "      <th>0</th>\n",
              "      <th>1</th>\n",
              "      <th>2</th>\n",
              "      <th>3</th>\n",
              "      <th>4</th>\n",
              "      <th>...</th>\n",
              "      <th>243</th>\n",
              "      <th>244</th>\n",
              "      <th>245</th>\n",
              "      <th>246</th>\n",
              "      <th>247</th>\n",
              "      <th>248</th>\n",
              "      <th>249</th>\n",
              "      <th>250</th>\n",
              "      <th>251</th>\n",
              "      <th>252</th>\n",
              "    </tr>\n",
              "  </thead>\n",
              "  <tbody>\n",
              "    <tr>\n",
              "      <th>count</th>\n",
              "      <td>38919.000000</td>\n",
              "      <td>3.891900e+04</td>\n",
              "      <td>38919.000000</td>\n",
              "      <td>38919.000000</td>\n",
              "      <td>3.891900e+04</td>\n",
              "      <td>38919.000000</td>\n",
              "      <td>38919.000000</td>\n",
              "      <td>38919.000000</td>\n",
              "      <td>38919.000000</td>\n",
              "      <td>38919.000000</td>\n",
              "      <td>...</td>\n",
              "      <td>38919.000000</td>\n",
              "      <td>38919.000000</td>\n",
              "      <td>38919.000000</td>\n",
              "      <td>38919.000000</td>\n",
              "      <td>38919.000000</td>\n",
              "      <td>38919.000000</td>\n",
              "      <td>38919.000000</td>\n",
              "      <td>38919.000000</td>\n",
              "      <td>38919.000000</td>\n",
              "      <td>38919.000000</td>\n",
              "    </tr>\n",
              "    <tr>\n",
              "      <th>mean</th>\n",
              "      <td>419486.076004</td>\n",
              "      <td>2.154005e+06</td>\n",
              "      <td>2.801562</td>\n",
              "      <td>0.067885</td>\n",
              "      <td>2.259702e+06</td>\n",
              "      <td>-0.653179</td>\n",
              "      <td>-1.564541</td>\n",
              "      <td>-1.144136</td>\n",
              "      <td>-2.513602</td>\n",
              "      <td>-1.225731</td>\n",
              "      <td>...</td>\n",
              "      <td>-18.027794</td>\n",
              "      <td>-3.666550</td>\n",
              "      <td>0.361963</td>\n",
              "      <td>-0.543627</td>\n",
              "      <td>-17.829663</td>\n",
              "      <td>-2.040782</td>\n",
              "      <td>-0.024627</td>\n",
              "      <td>-1.846917</td>\n",
              "      <td>0.003353</td>\n",
              "      <td>0.257843</td>\n",
              "    </tr>\n",
              "    <tr>\n",
              "      <th>std</th>\n",
              "      <td>240312.262815</td>\n",
              "      <td>1.262414e+06</td>\n",
              "      <td>1.978314</td>\n",
              "      <td>0.251551</td>\n",
              "      <td>1.309179e+06</td>\n",
              "      <td>194.172807</td>\n",
              "      <td>399.922474</td>\n",
              "      <td>204.543990</td>\n",
              "      <td>451.883977</td>\n",
              "      <td>229.993395</td>\n",
              "      <td>...</td>\n",
              "      <td>3167.200100</td>\n",
              "      <td>2225.590690</td>\n",
              "      <td>1081.353728</td>\n",
              "      <td>288.871988</td>\n",
              "      <td>1086.209541</td>\n",
              "      <td>145.695314</td>\n",
              "      <td>6.176294</td>\n",
              "      <td>97.109281</td>\n",
              "      <td>5.616058</td>\n",
              "      <td>0.557951</td>\n",
              "    </tr>\n",
              "    <tr>\n",
              "      <th>min</th>\n",
              "      <td>37.000000</td>\n",
              "      <td>2.000000e+00</td>\n",
              "      <td>1.000000</td>\n",
              "      <td>0.000000</td>\n",
              "      <td>1.580000e+02</td>\n",
              "      <td>-411.719971</td>\n",
              "      <td>-468.019112</td>\n",
              "      <td>-421.420786</td>\n",
              "      <td>-512.156798</td>\n",
              "      <td>-426.838246</td>\n",
              "      <td>...</td>\n",
              "      <td>-977.373846</td>\n",
              "      <td>-613.770792</td>\n",
              "      <td>-25.996269</td>\n",
              "      <td>-37.630448</td>\n",
              "      <td>-306.747724</td>\n",
              "      <td>-25.832889</td>\n",
              "      <td>-0.694428</td>\n",
              "      <td>-12.175933</td>\n",
              "      <td>-0.456140</td>\n",
              "      <td>0.000000</td>\n",
              "    </tr>\n",
              "    <tr>\n",
              "      <th>25%</th>\n",
              "      <td>212346.500000</td>\n",
              "      <td>1.064699e+06</td>\n",
              "      <td>1.000000</td>\n",
              "      <td>0.000000</td>\n",
              "      <td>1.117424e+06</td>\n",
              "      <td>-96.799971</td>\n",
              "      <td>-212.474112</td>\n",
              "      <td>-110.740786</td>\n",
              "      <td>-244.656798</td>\n",
              "      <td>-116.158246</td>\n",
              "      <td>...</td>\n",
              "      <td>-977.373846</td>\n",
              "      <td>-613.770792</td>\n",
              "      <td>-25.996269</td>\n",
              "      <td>-37.630448</td>\n",
              "      <td>-305.747724</td>\n",
              "      <td>-25.832889</td>\n",
              "      <td>-0.694428</td>\n",
              "      <td>-12.175933</td>\n",
              "      <td>-0.456140</td>\n",
              "      <td>0.000000</td>\n",
              "    </tr>\n",
              "    <tr>\n",
              "      <th>50%</th>\n",
              "      <td>419399.000000</td>\n",
              "      <td>2.132826e+06</td>\n",
              "      <td>2.000000</td>\n",
              "      <td>0.000000</td>\n",
              "      <td>2.261589e+06</td>\n",
              "      <td>-86.199971</td>\n",
              "      <td>-61.669112</td>\n",
              "      <td>-87.160786</td>\n",
              "      <td>-79.426798</td>\n",
              "      <td>-90.378246</td>\n",
              "      <td>...</td>\n",
              "      <td>-959.373846</td>\n",
              "      <td>-613.770792</td>\n",
              "      <td>-25.996269</td>\n",
              "      <td>-37.630448</td>\n",
              "      <td>-239.747724</td>\n",
              "      <td>-23.832889</td>\n",
              "      <td>-0.694428</td>\n",
              "      <td>-12.175933</td>\n",
              "      <td>-0.456140</td>\n",
              "      <td>0.000000</td>\n",
              "    </tr>\n",
              "    <tr>\n",
              "      <th>75%</th>\n",
              "      <td>625607.000000</td>\n",
              "      <td>3.249143e+06</td>\n",
              "      <td>5.000000</td>\n",
              "      <td>0.000000</td>\n",
              "      <td>3.390411e+06</td>\n",
              "      <td>9.505029</td>\n",
              "      <td>115.855888</td>\n",
              "      <td>24.694214</td>\n",
              "      <td>122.128202</td>\n",
              "      <td>24.906754</td>\n",
              "      <td>...</td>\n",
              "      <td>-497.373846</td>\n",
              "      <td>-411.770792</td>\n",
              "      <td>-24.996269</td>\n",
              "      <td>-32.630448</td>\n",
              "      <td>-80.747724</td>\n",
              "      <td>-10.832889</td>\n",
              "      <td>-0.694428</td>\n",
              "      <td>-9.175933</td>\n",
              "      <td>-0.456140</td>\n",
              "      <td>1.000000</td>\n",
              "    </tr>\n",
              "    <tr>\n",
              "      <th>max</th>\n",
              "      <td>831628.000000</td>\n",
              "      <td>4.362640e+06</td>\n",
              "      <td>9.000000</td>\n",
              "      <td>1.000000</td>\n",
              "      <td>4.512309e+06</td>\n",
              "      <td>9235.090029</td>\n",
              "      <td>20564.850888</td>\n",
              "      <td>9221.149214</td>\n",
              "      <td>20641.873202</td>\n",
              "      <td>10900.661754</td>\n",
              "      <td>...</td>\n",
              "      <td>141554.626154</td>\n",
              "      <td>72800.229208</td>\n",
              "      <td>150072.003731</td>\n",
              "      <td>21326.369552</td>\n",
              "      <td>40816.252276</td>\n",
              "      <td>9120.167111</td>\n",
              "      <td>582.305572</td>\n",
              "      <td>9131.824067</td>\n",
              "      <td>508.543860</td>\n",
              "      <td>68.000000</td>\n",
              "    </tr>\n",
              "  </tbody>\n",
              "</table>\n",
              "<p>8 rows × 258 columns</p>\n",
              "</div>"
            ],
            "text/plain": [
              "        Unnamed: 0_x            id        vas_id        target  Unnamed: 0_y  \\\n",
              "count   38919.000000  3.891900e+04  38919.000000  38919.000000  3.891900e+04   \n",
              "mean   419486.076004  2.154005e+06      2.801562      0.067885  2.259702e+06   \n",
              "std    240312.262815  1.262414e+06      1.978314      0.251551  1.309179e+06   \n",
              "min        37.000000  2.000000e+00      1.000000      0.000000  1.580000e+02   \n",
              "25%    212346.500000  1.064699e+06      1.000000      0.000000  1.117424e+06   \n",
              "50%    419399.000000  2.132826e+06      2.000000      0.000000  2.261589e+06   \n",
              "75%    625607.000000  3.249143e+06      5.000000      0.000000  3.390411e+06   \n",
              "max    831628.000000  4.362640e+06      9.000000      1.000000  4.512309e+06   \n",
              "\n",
              "                  0             1             2             3             4  \\\n",
              "count  38919.000000  38919.000000  38919.000000  38919.000000  38919.000000   \n",
              "mean      -0.653179     -1.564541     -1.144136     -2.513602     -1.225731   \n",
              "std      194.172807    399.922474    204.543990    451.883977    229.993395   \n",
              "min     -411.719971   -468.019112   -421.420786   -512.156798   -426.838246   \n",
              "25%      -96.799971   -212.474112   -110.740786   -244.656798   -116.158246   \n",
              "50%      -86.199971    -61.669112    -87.160786    -79.426798    -90.378246   \n",
              "75%        9.505029    115.855888     24.694214    122.128202     24.906754   \n",
              "max     9235.090029  20564.850888   9221.149214  20641.873202  10900.661754   \n",
              "\n",
              "       ...            243           244            245           246  \\\n",
              "count  ...   38919.000000  38919.000000   38919.000000  38919.000000   \n",
              "mean   ...     -18.027794     -3.666550       0.361963     -0.543627   \n",
              "std    ...    3167.200100   2225.590690    1081.353728    288.871988   \n",
              "min    ...    -977.373846   -613.770792     -25.996269    -37.630448   \n",
              "25%    ...    -977.373846   -613.770792     -25.996269    -37.630448   \n",
              "50%    ...    -959.373846   -613.770792     -25.996269    -37.630448   \n",
              "75%    ...    -497.373846   -411.770792     -24.996269    -32.630448   \n",
              "max    ...  141554.626154  72800.229208  150072.003731  21326.369552   \n",
              "\n",
              "                247           248           249           250           251  \\\n",
              "count  38919.000000  38919.000000  38919.000000  38919.000000  38919.000000   \n",
              "mean     -17.829663     -2.040782     -0.024627     -1.846917      0.003353   \n",
              "std     1086.209541    145.695314      6.176294     97.109281      5.616058   \n",
              "min     -306.747724    -25.832889     -0.694428    -12.175933     -0.456140   \n",
              "25%     -305.747724    -25.832889     -0.694428    -12.175933     -0.456140   \n",
              "50%     -239.747724    -23.832889     -0.694428    -12.175933     -0.456140   \n",
              "75%      -80.747724    -10.832889     -0.694428     -9.175933     -0.456140   \n",
              "max    40816.252276   9120.167111    582.305572   9131.824067    508.543860   \n",
              "\n",
              "                252  \n",
              "count  38919.000000  \n",
              "mean       0.257843  \n",
              "std        0.557951  \n",
              "min        0.000000  \n",
              "25%        0.000000  \n",
              "50%        0.000000  \n",
              "75%        1.000000  \n",
              "max       68.000000  \n",
              "\n",
              "[8 rows x 258 columns]"
            ]
          },
          "execution_count": 9,
          "metadata": {},
          "output_type": "execute_result"
        }
      ],
      "source": [
        "df_merge.describe()"
      ]
    },
    {
      "cell_type": "markdown",
      "id": "5f828b34",
      "metadata": {
        "id": "5f828b34"
      },
      "source": [
        "### Получаем тренировочный набор данных"
      ]
    },
    {
      "cell_type": "code",
      "execution_count": null,
      "id": "585d4c13",
      "metadata": {
        "id": "585d4c13"
      },
      "outputs": [],
      "source": [
        "df_merge['target'] = df_merge['target'].astype(int)"
      ]
    },
    {
      "cell_type": "code",
      "execution_count": null,
      "id": "70ee8ed7",
      "metadata": {
        "id": "70ee8ed7"
      },
      "outputs": [],
      "source": [
        "X_train = df_merge.drop('target', axis=1)\n",
        "X_test = df_merge_test"
      ]
    },
    {
      "cell_type": "code",
      "execution_count": null,
      "id": "509e69b7",
      "metadata": {
        "id": "509e69b7"
      },
      "outputs": [],
      "source": [
        "Y_train = df_merge['target']"
      ]
    },
    {
      "cell_type": "code",
      "execution_count": null,
      "id": "552d9b75",
      "metadata": {
        "id": "552d9b75",
        "outputId": "1fceb478-ebcb-4fcb-f702-0658fccfe529"
      },
      "outputs": [
        {
          "name": "stdout",
          "output_type": "stream",
          "text": [
            "target = 0 - 771467, target = 1 - 60186\n"
          ]
        }
      ],
      "source": [
        "y_list = []\n",
        "y_list.append(df_train[df_train['target']==0].shape[0])\n",
        "y_list.append(df_train[df_train['target']==1].shape[0])\n",
        "print(f'target = 0 - {y_list[0]}, target = 1 - {y_list[1]}')"
      ]
    },
    {
      "cell_type": "code",
      "execution_count": null,
      "id": "ed12478b",
      "metadata": {
        "id": "ed12478b",
        "outputId": "c76a99fa-6baf-4b53-8c7f-823143ba9f98"
      },
      "outputs": [
        {
          "data": {
            "image/png": "[encoded data removed]",
            "text/plain": [
              "<Figure size 640x480 with 1 Axes>"
            ]
          },
          "metadata": {},
          "output_type": "display_data"
        }
      ],
      "source": [
        "plt.style.use('ggplot')\n",
        "fig, ax = plt.subplots()\n",
        "ax.bar(np.arange(2), y_list)\n",
        "ax.set(xticks=np.arange(2))\n",
        "ax.set_title('Распределение целевой переменной target')\n",
        "plt.show()"
      ]
    },
    {
      "cell_type": "markdown",
      "id": "3bf2f1ca",
      "metadata": {
        "id": "3bf2f1ca"
      },
      "source": [
        "### Балансировка классов"
      ]
    },
    {
      "cell_type": "code",
      "execution_count": null,
      "id": "ad4e4329",
      "metadata": {
        "id": "ad4e4329"
      },
      "outputs": [],
      "source": [
        "def balance_df_by_target(df, target_name, method='over'):\n",
        "\n",
        "    assert method in ['over', 'under'], 'Неверный метод сэмплирования'\n",
        "    \n",
        "    target_counts = df[target_name].value_counts()\n",
        "\n",
        "    major_class_name = target_counts.argmax()\n",
        "    minor_class_name = target_counts.argmin()\n",
        "\n",
        "    disbalance_coeff = int(target_counts[major_class_name] / target_counts[minor_class_name]) - 1\n",
        "    if method == 'over':\n",
        "        for i in range(disbalance_coeff):\n",
        "            sample = df[df[target_name] == minor_class_name].sample(target_counts[minor_class_name])\n",
        "            df = df.append(sample, ignore_index=True)\n",
        "            \n",
        "    elif method == 'under':\n",
        "        df_ = df.copy()\n",
        "        df = df_[df_[target_name] == minor_class_name]\n",
        "        tmp = df_[df_[target_name] == major_class_name]\n",
        "        df = df.append(tmp.iloc[\n",
        "            np.random.randint(0, tmp.shape[0], target_counts[minor_class_name])\n",
        "        ], ignore_index=True)\n",
        "\n",
        "    return df.sample(frac=1) "
      ]
    },
    {
      "cell_type": "code",
      "execution_count": null,
      "id": "adf1a9ec",
      "metadata": {
        "id": "adf1a9ec",
        "outputId": "b5fd8e0f-f483-4ed9-98fd-3b9454f0751a"
      },
      "outputs": [
        {
          "data": {
            "text/plain": [
              "1    2642\n",
              "0    2642\n",
              "Name: target, dtype: int64"
            ]
          },
          "execution_count": 17,
          "metadata": {},
          "output_type": "execute_result"
        }
      ],
      "source": [
        "df_for_balancing = pd.concat([X_train, Y_train], axis=1)\n",
        "df_balanced = balance_df_by_target(df_for_balancing, 'target', method='under') \n",
        "df_balanced['target'].value_counts()"
      ]
    },
    {
      "cell_type": "code",
      "execution_count": null,
      "id": "5ce240fe",
      "metadata": {
        "id": "5ce240fe"
      },
      "outputs": [],
      "source": [
        "X_train = df_balanced.drop('target', axis=1)\n",
        "Y_train = df_balanced['target']"
      ]
    },
    {
      "cell_type": "markdown",
      "id": "bf49b452",
      "metadata": {
        "id": "bf49b452"
      },
      "source": [
        "### Определение типа признаков"
      ]
    },
    {
      "cell_type": "code",
      "execution_count": null,
      "id": "806c7850",
      "metadata": {
        "id": "806c7850"
      },
      "outputs": [],
      "source": [
        "# Составление списка колонок датафрейма\n",
        "columns = [col for col in X_train.columns]"
      ]
    },
    {
      "cell_type": "code",
      "execution_count": null,
      "id": "b88c19fa",
      "metadata": {
        "id": "b88c19fa"
      },
      "outputs": [],
      "source": [
        "# Выбор признаков для обработки в pipline \n",
        "for x in ['Unnamed: 0_x', 'Unnamed: 0_y']:\n",
        "    columns.remove(x)"
      ]
    },
    {
      "cell_type": "code",
      "execution_count": null,
      "id": "eb450a71",
      "metadata": {
        "id": "eb450a71"
      },
      "outputs": [],
      "source": [
        "# Преобразуем признак buy_time в год\n",
        "\n",
        "X_train['buy_time'] = X_train['buy_time'].apply(lambda x: x.year)"
      ]
    },
    {
      "cell_type": "code",
      "execution_count": null,
      "id": "b88a0005",
      "metadata": {
        "id": "b88a0005"
      },
      "outputs": [],
      "source": [
        "X_train = X_train[columns]\n",
        "X_test = X_test[columns]"
      ]
    },
    {
      "cell_type": "code",
      "execution_count": null,
      "id": "4c29eac0",
      "metadata": {
        "id": "4c29eac0"
      },
      "outputs": [],
      "source": [
        "def find_feature(X_train):\n",
        "    # Просмотр и оценка признаков\n",
        "    X_nunique = X_train.apply(lambda x: x.nunique(dropna=False))\n",
        "    f_all = set(X_nunique.index.tolist())\n",
        "\n",
        "    # константные признаки\n",
        "    f_const = set(X_nunique[X_nunique == 1].index.tolist())\n",
        "\n",
        "    # вещественные признаки\n",
        "    f_numeric = (X_train.fillna(0).astype(int).sum() - X_train.fillna(0).sum()).abs()\n",
        "    f_numeric = set(f_numeric[f_numeric > 0].index.tolist())\n",
        "\n",
        "    f_other = f_all - (f_numeric | f_const)\n",
        "\n",
        "    # бинарные\n",
        "    f_binary = set(X_train.loc[:, f_other].columns[(\n",
        "                          (X_train.loc[:, f_other].max() == 1) & \\\n",
        "                          (X_train.loc[:, f_other].min() == 0) & \\\n",
        "                          (X_train.loc[:, f_other].isnull().sum() == 0))])\n",
        "\n",
        "    f_other = f_other - f_binary\n",
        "\n",
        "    # категориальные\n",
        "    f_categorical = set(X_nunique.loc[f_other][X_nunique.loc[f_other] <= 10].index.tolist())\n",
        "\n",
        "    f_numeric_extra = f_categorical\n",
        "    f_other = f_other - f_categorical\n",
        "    f_numeric = f_numeric | f_other\n",
        "    f_other = f_other - f_numeric\n",
        "\n",
        "    print(f'Признаки {len(f_all)}')\n",
        "    print(f'Константные признаки {len(f_const)}')\n",
        "    print(f'Вещественные признаки {len(f_numeric)}')\n",
        "    print(f'Бинарные признаки {len(f_binary)}')\n",
        "    print(f'Категориальные признаки {len(f_categorical)}')\n",
        "    print(f'Остальные признаки {len(f_other)}')\n",
        "    f_ok = list(f_binary | f_categorical | f_numeric)\n",
        "    f_const, f_binary, f_categorical, f_numeric = list(f_const), list(f_binary), list(f_categorical), list(f_numeric)\n",
        "    \n",
        "    return f_ok, f_const, f_binary, f_categorical, f_numeric"
      ]
    },
    {
      "cell_type": "markdown",
      "id": "242669a4",
      "metadata": {
        "id": "242669a4"
      },
      "source": [
        "### Создание пайплайна"
      ]
    },
    {
      "cell_type": "code",
      "execution_count": null,
      "id": "4897c021",
      "metadata": {
        "id": "4897c021"
      },
      "outputs": [],
      "source": [
        "class ColumnSelector(BaseEstimator, TransformerMixin):\n",
        "    def __init__(self, columns):\n",
        "        self.columns = columns\n",
        "\n",
        "    def fit(self, X, y=None):\n",
        "        return self\n",
        "    \n",
        "    def transform(self, X):\n",
        "        assert isinstance(X, pd.DataFrame)\n",
        "\n",
        "        try:\n",
        "            return X[self.columns]\n",
        "        except KeyError:\n",
        "            cols_error = list(set(self.columns) - set(X.columns))\n",
        "            raise KeyError(f'DataFrame не содердит следующие колонки: {cols_error}')"
      ]
    },
    {
      "cell_type": "code",
      "execution_count": null,
      "id": "5ddebc3c",
      "metadata": {
        "id": "5ddebc3c",
        "outputId": "487acf4a-7b64-4a9f-9137-df9097a591d4"
      },
      "outputs": [
        {
          "name": "stdout",
          "output_type": "stream",
          "text": [
            "Признаки 256\n",
            "Константные признаки 17\n",
            "Вещественные признаки 248\n",
            "Бинарные признаки 1\n",
            "Категориальные признаки 1\n",
            "Остальные признаки 0\n"
          ]
        }
      ],
      "source": [
        "f_ok, f_const, f_binary, f_categorical, f_numeric = find_feature(X_train)"
      ]
    },
    {
      "cell_type": "code",
      "execution_count": null,
      "id": "558fc3b0",
      "metadata": {
        "id": "558fc3b0"
      },
      "outputs": [],
      "source": [
        "f_prep_pipeline = make_pipeline(\n",
        "    ColumnSelector(columns=f_ok),\n",
        "    FeatureUnion(transformer_list=[\n",
        "        (\"numeric_features\", make_pipeline(\n",
        "            ColumnSelector(f_numeric),\n",
        "            SimpleImputer(strategy=\"mean\"),\n",
        "            StandardScaler()\n",
        "        )),\n",
        "        (\"categorical_features\", make_pipeline(\n",
        "            ColumnSelector(f_categorical),\n",
        "            SimpleImputer(strategy=\"most_frequent\"),\n",
        "            OneHotEncoder(handle_unknown='ignore')\n",
        "        )),\n",
        "        (\"boolean_features\", make_pipeline(\n",
        "            ColumnSelector(f_binary),\n",
        "        ))\n",
        "    ])\n",
        ")"
      ]
    },
    {
      "cell_type": "code",
      "execution_count": null,
      "id": "74ea3b22",
      "metadata": {
        "id": "74ea3b22",
        "outputId": "e58849e1-5a1b-4f3b-f633-6518b31f714b"
      },
      "outputs": [
        {
          "data": {
            "text/plain": [
              "[('columnselector',\n",
              "  ColumnSelector(columns=['15', '69', '198', '227', '232', '127', '187', '211',\n",
              "                          '46', '146', '242', '200', '87', '122', '205', '161',\n",
              "                          '7', '78', '114', '234', '19', '98', '61', '68', '67',\n",
              "                          '247', '223', '250', 'vas_id', '120', ...])),\n",
              " ('featureunion',\n",
              "  FeatureUnion(transformer_list=[('numeric_features',\n",
              "                                  Pipeline(steps=[('columnselector',\n",
              "                                                   ColumnSelector(columns=['15',\n",
              "                                                                           '69',\n",
              "                                                                           '198',\n",
              "                                                                           '227',\n",
              "                                                                           '232',\n",
              "                                                                           '127',\n",
              "                                                                           '187',\n",
              "                                                                           '211',\n",
              "                                                                           '46',\n",
              "                                                                           '146',\n",
              "                                                                           '242',\n",
              "                                                                           '200',\n",
              "                                                                           '87',\n",
              "                                                                           '122',\n",
              "                                                                           '205',\n",
              "                                                                           '161',\n",
              "                                                                           '7',\n",
              "                                                                           '78',\n",
              "                                                                           '114',\n",
              "                                                                           '234',\n",
              "                                                                           '19',\n",
              "                                                                           '98',\n",
              "                                                                           '61',\n",
              "                                                                           '68',\n",
              "                                                                           '67',\n",
              "                                                                           '247',\n",
              "                                                                           '223',\n",
              "                                                                           '250',\n",
              "                                                                           '120',\n",
              "                                                                           '229', ...])),\n",
              "                                                  ('simpleimputer',\n",
              "                                                   SimpleImputer()),\n",
              "                                                  ('standardscaler',\n",
              "                                                   StandardScaler())])),\n",
              "                                 ('categorical_features',\n",
              "                                  Pipeline(steps=[('columnselector',\n",
              "                                                   ColumnSelector(columns=['vas_id'])),\n",
              "                                                  ('simpleimputer',\n",
              "                                                   SimpleImputer(strategy='most_frequent')),\n",
              "                                                  ('onehotencoder',\n",
              "                                                   OneHotEncoder(handle_unknown='ignore'))])),\n",
              "                                 ('boolean_features',\n",
              "                                  Pipeline(steps=[('columnselector',\n",
              "                                                   ColumnSelector(columns=['252']))]))]))]"
            ]
          },
          "execution_count": 28,
          "metadata": {},
          "output_type": "execute_result"
        }
      ],
      "source": [
        "f_prep_pipeline.steps"
      ]
    },
    {
      "cell_type": "code",
      "execution_count": null,
      "id": "e4ae4e59",
      "metadata": {
        "id": "e4ae4e59",
        "outputId": "a220b3fd-e22f-4050-f9d4-3229283d3242"
      },
      "outputs": [
        {
          "name": "stdout",
          "output_type": "stream",
          "text": [
            "Количество обработанных признаков с помощью fit, transfofm - 257\n"
          ]
        }
      ],
      "source": [
        "f_prep_pipeline.fit(X_train)\n",
        "n_features = f_prep_pipeline.transform(X_train).shape[1]\n",
        "print(f'Количество обработанных признаков с помощью fit, transfofm - {n_features}')"
      ]
    },
    {
      "cell_type": "code",
      "execution_count": null,
      "id": "3a0954ec",
      "metadata": {
        "id": "3a0954ec",
        "outputId": "af36fdcd-f39f-4860-8108-d0b9d0d52b6a"
      },
      "outputs": [
        {
          "data": {
            "text/html": [
              "<style>#sk-container-id-1 {color: black;background-color: white;}#sk-container-id-1 pre{padding: 0;}#sk-container-id-1 div.sk-toggleable {background-color: white;}#sk-container-id-1 label.sk-toggleable__label {cursor: pointer;display: block;width: 100%;margin-bottom: 0;padding: 0.3em;box-sizing: border-box;text-align: center;}#sk-container-id-1 label.sk-toggleable__label-arrow:before {content: \"▸\";float: left;margin-right: 0.25em;color: #696969;}#sk-container-id-1 label.sk-toggleable__label-arrow:hover:before {color: black;}#sk-container-id-1 div.sk-estimator:hover label.sk-toggleable__label-arrow:before {color: black;}#sk-container-id-1 div.sk-toggleable__content {max-height: 0;max-width: 0;overflow: hidden;text-align: left;background-color: #f0f8ff;}#sk-container-id-1 div.sk-toggleable__content pre {margin: 0.2em;color: black;border-radius: 0.25em;background-color: #f0f8ff;}#sk-container-id-1 input.sk-toggleable__control:checked~div.sk-toggleable__content {max-height: 200px;max-width: 100%;overflow: auto;}#sk-container-id-1 input.sk-toggleable__control:checked~label.sk-toggleable__label-arrow:before {content: \"▾\";}#sk-container-id-1 div.sk-estimator input.sk-toggleable__control:checked~label.sk-toggleable__label {background-color: #d4ebff;}#sk-container-id-1 div.sk-label input.sk-toggleable__control:checked~label.sk-toggleable__label {background-color: #d4ebff;}#sk-container-id-1 input.sk-hidden--visually {border: 0;clip: rect(1px 1px 1px 1px);clip: rect(1px, 1px, 1px, 1px);height: 1px;margin: -1px;overflow: hidden;padding: 0;position: absolute;width: 1px;}#sk-container-id-1 div.sk-estimator {font-family: monospace;background-color: #f0f8ff;border: 1px dotted black;border-radius: 0.25em;box-sizing: border-box;margin-bottom: 0.5em;}#sk-container-id-1 div.sk-estimator:hover {background-color: #d4ebff;}#sk-container-id-1 div.sk-parallel-item::after {content: \"\";width: 100%;border-bottom: 1px solid gray;flex-grow: 1;}#sk-container-id-1 div.sk-label:hover label.sk-toggleable__label {background-color: #d4ebff;}#sk-container-id-1 div.sk-serial::before {content: \"\";position: absolute;border-left: 1px solid gray;box-sizing: border-box;top: 0;bottom: 0;left: 50%;z-index: 0;}#sk-container-id-1 div.sk-serial {display: flex;flex-direction: column;align-items: center;background-color: white;padding-right: 0.2em;padding-left: 0.2em;position: relative;}#sk-container-id-1 div.sk-item {position: relative;z-index: 1;}#sk-container-id-1 div.sk-parallel {display: flex;align-items: stretch;justify-content: center;background-color: white;position: relative;}#sk-container-id-1 div.sk-item::before, #sk-container-id-1 div.sk-parallel-item::before {content: \"\";position: absolute;border-left: 1px solid gray;box-sizing: border-box;top: 0;bottom: 0;left: 50%;z-index: -1;}#sk-container-id-1 div.sk-parallel-item {display: flex;flex-direction: column;z-index: 1;position: relative;background-color: white;}#sk-container-id-1 div.sk-parallel-item:first-child::after {align-self: flex-end;width: 50%;}#sk-container-id-1 div.sk-parallel-item:last-child::after {align-self: flex-start;width: 50%;}#sk-container-id-1 div.sk-parallel-item:only-child::after {width: 0;}#sk-container-id-1 div.sk-dashed-wrapped {border: 1px dashed gray;margin: 0 0.4em 0.5em 0.4em;box-sizing: border-box;padding-bottom: 0.4em;background-color: white;}#sk-container-id-1 div.sk-label label {font-family: monospace;font-weight: bold;display: inline-block;line-height: 1.2em;}#sk-container-id-1 div.sk-label-container {text-align: center;}#sk-container-id-1 div.sk-container {/* jupyter's `normalize.less` sets `[hidden] { display: none; }` but bootstrap.min.css set `[hidden] { display: none !important; }` so we also need the `!important` here to be able to override the default hidden behavior on the sphinx rendered scikit-learn.org. See: https://github.com/scikit-learn/scikit-learn/issues/21755 */display: inline-block !important;position: relative;}#sk-container-id-1 div.sk-text-repr-fallback {display: none;}</style><div id=\"sk-container-id-1\" class=\"sk-top-container\"><div class=\"sk-text-repr-fallback\"><pre>Pipeline(steps=[(&#x27;columnselector&#x27;,\n",
              "                 ColumnSelector(columns=[&#x27;15&#x27;, &#x27;69&#x27;, &#x27;198&#x27;, &#x27;227&#x27;, &#x27;232&#x27;, &#x27;127&#x27;,\n",
              "                                         &#x27;187&#x27;, &#x27;211&#x27;, &#x27;46&#x27;, &#x27;146&#x27;, &#x27;242&#x27;,\n",
              "                                         &#x27;200&#x27;, &#x27;87&#x27;, &#x27;122&#x27;, &#x27;205&#x27;, &#x27;161&#x27;, &#x27;7&#x27;,\n",
              "                                         &#x27;78&#x27;, &#x27;114&#x27;, &#x27;234&#x27;, &#x27;19&#x27;, &#x27;98&#x27;, &#x27;61&#x27;,\n",
              "                                         &#x27;68&#x27;, &#x27;67&#x27;, &#x27;247&#x27;, &#x27;223&#x27;, &#x27;250&#x27;,\n",
              "                                         &#x27;vas_id&#x27;, &#x27;120&#x27;, ...])),\n",
              "                (&#x27;featureunion&#x27;,\n",
              "                 FeatureUnion(transformer_list=[(&#x27;numeric_features&#x27;,\n",
              "                                                 Pipeline(steps=[(&#x27;columnselector&#x27;,\n",
              "                                                                  ColumnSelecto...\n",
              "                                                                  SimpleImputer()),\n",
              "                                                                 (&#x27;standardscaler&#x27;,\n",
              "                                                                  StandardScaler())])),\n",
              "                                                (&#x27;categorical_features&#x27;,\n",
              "                                                 Pipeline(steps=[(&#x27;columnselector&#x27;,\n",
              "                                                                  ColumnSelector(columns=[&#x27;vas_id&#x27;])),\n",
              "                                                                 (&#x27;simpleimputer&#x27;,\n",
              "                                                                  SimpleImputer(strategy=&#x27;most_frequent&#x27;)),\n",
              "                                                                 (&#x27;onehotencoder&#x27;,\n",
              "                                                                  OneHotEncoder(handle_unknown=&#x27;ignore&#x27;))])),\n",
              "                                                (&#x27;boolean_features&#x27;,\n",
              "                                                 Pipeline(steps=[(&#x27;columnselector&#x27;,\n",
              "                                                                  ColumnSelector(columns=[&#x27;252&#x27;]))]))]))])</pre><b>In a Jupyter environment, please rerun this cell to show the HTML representation or trust the notebook. <br />On GitHub, the HTML representation is unable to render, please try loading this page with nbviewer.org.</b></div><div class=\"sk-container\" hidden><div class=\"sk-item sk-dashed-wrapped\"><div class=\"sk-label-container\"><div class=\"sk-label sk-toggleable\"><input class=\"sk-toggleable__control sk-hidden--visually\" id=\"sk-estimator-id-1\" type=\"checkbox\" ><label for=\"sk-estimator-id-1\" class=\"sk-toggleable__label sk-toggleable__label-arrow\">Pipeline</label><div class=\"sk-toggleable__content\"><pre>Pipeline(steps=[(&#x27;columnselector&#x27;,\n",
              "                 ColumnSelector(columns=[&#x27;15&#x27;, &#x27;69&#x27;, &#x27;198&#x27;, &#x27;227&#x27;, &#x27;232&#x27;, &#x27;127&#x27;,\n",
              "                                         &#x27;187&#x27;, &#x27;211&#x27;, &#x27;46&#x27;, &#x27;146&#x27;, &#x27;242&#x27;,\n",
              "                                         &#x27;200&#x27;, &#x27;87&#x27;, &#x27;122&#x27;, &#x27;205&#x27;, &#x27;161&#x27;, &#x27;7&#x27;,\n",
              "                                         &#x27;78&#x27;, &#x27;114&#x27;, &#x27;234&#x27;, &#x27;19&#x27;, &#x27;98&#x27;, &#x27;61&#x27;,\n",
              "                                         &#x27;68&#x27;, &#x27;67&#x27;, &#x27;247&#x27;, &#x27;223&#x27;, &#x27;250&#x27;,\n",
              "                                         &#x27;vas_id&#x27;, &#x27;120&#x27;, ...])),\n",
              "                (&#x27;featureunion&#x27;,\n",
              "                 FeatureUnion(transformer_list=[(&#x27;numeric_features&#x27;,\n",
              "                                                 Pipeline(steps=[(&#x27;columnselector&#x27;,\n",
              "                                                                  ColumnSelecto...\n",
              "                                                                  SimpleImputer()),\n",
              "                                                                 (&#x27;standardscaler&#x27;,\n",
              "                                                                  StandardScaler())])),\n",
              "                                                (&#x27;categorical_features&#x27;,\n",
              "                                                 Pipeline(steps=[(&#x27;columnselector&#x27;,\n",
              "                                                                  ColumnSelector(columns=[&#x27;vas_id&#x27;])),\n",
              "                                                                 (&#x27;simpleimputer&#x27;,\n",
              "                                                                  SimpleImputer(strategy=&#x27;most_frequent&#x27;)),\n",
              "                                                                 (&#x27;onehotencoder&#x27;,\n",
              "                                                                  OneHotEncoder(handle_unknown=&#x27;ignore&#x27;))])),\n",
              "                                                (&#x27;boolean_features&#x27;,\n",
              "                                                 Pipeline(steps=[(&#x27;columnselector&#x27;,\n",
              "                                                                  ColumnSelector(columns=[&#x27;252&#x27;]))]))]))])</pre></div></div></div><div class=\"sk-serial\"><div class=\"sk-item\"><div class=\"sk-estimator sk-toggleable\"><input class=\"sk-toggleable__control sk-hidden--visually\" id=\"sk-estimator-id-2\" type=\"checkbox\" ><label for=\"sk-estimator-id-2\" class=\"sk-toggleable__label sk-toggleable__label-arrow\">ColumnSelector</label><div class=\"sk-toggleable__content\"><pre>ColumnSelector(columns=[&#x27;15&#x27;, &#x27;69&#x27;, &#x27;198&#x27;, &#x27;227&#x27;, &#x27;232&#x27;, &#x27;127&#x27;, &#x27;187&#x27;, &#x27;211&#x27;,\n",
              "                        &#x27;46&#x27;, &#x27;146&#x27;, &#x27;242&#x27;, &#x27;200&#x27;, &#x27;87&#x27;, &#x27;122&#x27;, &#x27;205&#x27;, &#x27;161&#x27;,\n",
              "                        &#x27;7&#x27;, &#x27;78&#x27;, &#x27;114&#x27;, &#x27;234&#x27;, &#x27;19&#x27;, &#x27;98&#x27;, &#x27;61&#x27;, &#x27;68&#x27;, &#x27;67&#x27;,\n",
              "                        &#x27;247&#x27;, &#x27;223&#x27;, &#x27;250&#x27;, &#x27;vas_id&#x27;, &#x27;120&#x27;, ...])</pre></div></div></div><div class=\"sk-item sk-dashed-wrapped\"><div class=\"sk-label-container\"><div class=\"sk-label sk-toggleable\"><input class=\"sk-toggleable__control sk-hidden--visually\" id=\"sk-estimator-id-3\" type=\"checkbox\" ><label for=\"sk-estimator-id-3\" class=\"sk-toggleable__label sk-toggleable__label-arrow\">featureunion: FeatureUnion</label><div class=\"sk-toggleable__content\"><pre>FeatureUnion(transformer_list=[(&#x27;numeric_features&#x27;,\n",
              "                                Pipeline(steps=[(&#x27;columnselector&#x27;,\n",
              "                                                 ColumnSelector(columns=[&#x27;15&#x27;,\n",
              "                                                                         &#x27;69&#x27;,\n",
              "                                                                         &#x27;198&#x27;,\n",
              "                                                                         &#x27;227&#x27;,\n",
              "                                                                         &#x27;232&#x27;,\n",
              "                                                                         &#x27;127&#x27;,\n",
              "                                                                         &#x27;187&#x27;,\n",
              "                                                                         &#x27;211&#x27;,\n",
              "                                                                         &#x27;46&#x27;,\n",
              "                                                                         &#x27;146&#x27;,\n",
              "                                                                         &#x27;242&#x27;,\n",
              "                                                                         &#x27;200&#x27;,\n",
              "                                                                         &#x27;87&#x27;,\n",
              "                                                                         &#x27;122&#x27;,\n",
              "                                                                         &#x27;205&#x27;,\n",
              "                                                                         &#x27;161&#x27;,\n",
              "                                                                         &#x27;7&#x27;,\n",
              "                                                                         &#x27;78&#x27;,\n",
              "                                                                         &#x27;114&#x27;,\n",
              "                                                                         &#x27;234&#x27;,\n",
              "                                                                         &#x27;19&#x27;,\n",
              "                                                                         &#x27;98&#x27;,\n",
              "                                                                         &#x27;61&#x27;,\n",
              "                                                                         &#x27;68&#x27;,\n",
              "                                                                         &#x27;67&#x27;,\n",
              "                                                                         &#x27;247&#x27;,\n",
              "                                                                         &#x27;223&#x27;,\n",
              "                                                                         &#x27;250&#x27;,\n",
              "                                                                         &#x27;120&#x27;,\n",
              "                                                                         &#x27;229&#x27;, ...])),\n",
              "                                                (&#x27;simpleimputer&#x27;,\n",
              "                                                 SimpleImputer()),\n",
              "                                                (&#x27;standardscaler&#x27;,\n",
              "                                                 StandardScaler())])),\n",
              "                               (&#x27;categorical_features&#x27;,\n",
              "                                Pipeline(steps=[(&#x27;columnselector&#x27;,\n",
              "                                                 ColumnSelector(columns=[&#x27;vas_id&#x27;])),\n",
              "                                                (&#x27;simpleimputer&#x27;,\n",
              "                                                 SimpleImputer(strategy=&#x27;most_frequent&#x27;)),\n",
              "                                                (&#x27;onehotencoder&#x27;,\n",
              "                                                 OneHotEncoder(handle_unknown=&#x27;ignore&#x27;))])),\n",
              "                               (&#x27;boolean_features&#x27;,\n",
              "                                Pipeline(steps=[(&#x27;columnselector&#x27;,\n",
              "                                                 ColumnSelector(columns=[&#x27;252&#x27;]))]))])</pre></div></div></div><div class=\"sk-parallel\"><div class=\"sk-parallel-item\"><div class=\"sk-item\"><div class=\"sk-label-container\"><div class=\"sk-label sk-toggleable\"><label>numeric_features</label></div></div><div class=\"sk-serial\"><div class=\"sk-item\"><div class=\"sk-serial\"><div class=\"sk-item\"><div class=\"sk-estimator sk-toggleable\"><input class=\"sk-toggleable__control sk-hidden--visually\" id=\"sk-estimator-id-4\" type=\"checkbox\" ><label for=\"sk-estimator-id-4\" class=\"sk-toggleable__label sk-toggleable__label-arrow\">ColumnSelector</label><div class=\"sk-toggleable__content\"><pre>ColumnSelector(columns=[&#x27;15&#x27;, &#x27;69&#x27;, &#x27;198&#x27;, &#x27;227&#x27;, &#x27;232&#x27;, &#x27;127&#x27;, &#x27;187&#x27;, &#x27;211&#x27;,\n",
              "                        &#x27;46&#x27;, &#x27;146&#x27;, &#x27;242&#x27;, &#x27;200&#x27;, &#x27;87&#x27;, &#x27;122&#x27;, &#x27;205&#x27;, &#x27;161&#x27;,\n",
              "                        &#x27;7&#x27;, &#x27;78&#x27;, &#x27;114&#x27;, &#x27;234&#x27;, &#x27;19&#x27;, &#x27;98&#x27;, &#x27;61&#x27;, &#x27;68&#x27;, &#x27;67&#x27;,\n",
              "                        &#x27;247&#x27;, &#x27;223&#x27;, &#x27;250&#x27;, &#x27;120&#x27;, &#x27;229&#x27;, ...])</pre></div></div></div><div class=\"sk-item\"><div class=\"sk-estimator sk-toggleable\"><input class=\"sk-toggleable__control sk-hidden--visually\" id=\"sk-estimator-id-5\" type=\"checkbox\" ><label for=\"sk-estimator-id-5\" class=\"sk-toggleable__label sk-toggleable__label-arrow\">SimpleImputer</label><div class=\"sk-toggleable__content\"><pre>SimpleImputer()</pre></div></div></div><div class=\"sk-item\"><div class=\"sk-estimator sk-toggleable\"><input class=\"sk-toggleable__control sk-hidden--visually\" id=\"sk-estimator-id-6\" type=\"checkbox\" ><label for=\"sk-estimator-id-6\" class=\"sk-toggleable__label sk-toggleable__label-arrow\">StandardScaler</label><div class=\"sk-toggleable__content\"><pre>StandardScaler()</pre></div></div></div></div></div></div></div></div><div class=\"sk-parallel-item\"><div class=\"sk-item\"><div class=\"sk-label-container\"><div class=\"sk-label sk-toggleable\"><label>categorical_features</label></div></div><div class=\"sk-serial\"><div class=\"sk-item\"><div class=\"sk-serial\"><div class=\"sk-item\"><div class=\"sk-estimator sk-toggleable\"><input class=\"sk-toggleable__control sk-hidden--visually\" id=\"sk-estimator-id-7\" type=\"checkbox\" ><label for=\"sk-estimator-id-7\" class=\"sk-toggleable__label sk-toggleable__label-arrow\">ColumnSelector</label><div class=\"sk-toggleable__content\"><pre>ColumnSelector(columns=[&#x27;vas_id&#x27;])</pre></div></div></div><div class=\"sk-item\"><div class=\"sk-estimator sk-toggleable\"><input class=\"sk-toggleable__control sk-hidden--visually\" id=\"sk-estimator-id-8\" type=\"checkbox\" ><label for=\"sk-estimator-id-8\" class=\"sk-toggleable__label sk-toggleable__label-arrow\">SimpleImputer</label><div class=\"sk-toggleable__content\"><pre>SimpleImputer(strategy=&#x27;most_frequent&#x27;)</pre></div></div></div><div class=\"sk-item\"><div class=\"sk-estimator sk-toggleable\"><input class=\"sk-toggleable__control sk-hidden--visually\" id=\"sk-estimator-id-9\" type=\"checkbox\" ><label for=\"sk-estimator-id-9\" class=\"sk-toggleable__label sk-toggleable__label-arrow\">OneHotEncoder</label><div class=\"sk-toggleable__content\"><pre>OneHotEncoder(handle_unknown=&#x27;ignore&#x27;)</pre></div></div></div></div></div></div></div></div><div class=\"sk-parallel-item\"><div class=\"sk-item\"><div class=\"sk-label-container\"><div class=\"sk-label sk-toggleable\"><label>boolean_features</label></div></div><div class=\"sk-serial\"><div class=\"sk-item\"><div class=\"sk-serial\"><div class=\"sk-item\"><div class=\"sk-estimator sk-toggleable\"><input class=\"sk-toggleable__control sk-hidden--visually\" id=\"sk-estimator-id-10\" type=\"checkbox\" ><label for=\"sk-estimator-id-10\" class=\"sk-toggleable__label sk-toggleable__label-arrow\">ColumnSelector</label><div class=\"sk-toggleable__content\"><pre>ColumnSelector(columns=[&#x27;252&#x27;])</pre></div></div></div></div></div></div></div></div></div></div></div></div></div></div>"
            ],
            "text/plain": [
              "Pipeline(steps=[('columnselector',\n",
              "                 ColumnSelector(columns=['15', '69', '198', '227', '232', '127',\n",
              "                                         '187', '211', '46', '146', '242',\n",
              "                                         '200', '87', '122', '205', '161', '7',\n",
              "                                         '78', '114', '234', '19', '98', '61',\n",
              "                                         '68', '67', '247', '223', '250',\n",
              "                                         'vas_id', '120', ...])),\n",
              "                ('featureunion',\n",
              "                 FeatureUnion(transformer_list=[('numeric_features',\n",
              "                                                 Pipeline(steps=[('columnselector',\n",
              "                                                                  ColumnSelecto...\n",
              "                                                                  SimpleImputer()),\n",
              "                                                                 ('standardscaler',\n",
              "                                                                  StandardScaler())])),\n",
              "                                                ('categorical_features',\n",
              "                                                 Pipeline(steps=[('columnselector',\n",
              "                                                                  ColumnSelector(columns=['vas_id'])),\n",
              "                                                                 ('simpleimputer',\n",
              "                                                                  SimpleImputer(strategy='most_frequent')),\n",
              "                                                                 ('onehotencoder',\n",
              "                                                                  OneHotEncoder(handle_unknown='ignore'))])),\n",
              "                                                ('boolean_features',\n",
              "                                                 Pipeline(steps=[('columnselector',\n",
              "                                                                  ColumnSelector(columns=['252']))]))]))])"
            ]
          },
          "execution_count": 30,
          "metadata": {},
          "output_type": "execute_result"
        }
      ],
      "source": [
        "f_prep_pipeline"
      ]
    },
    {
      "cell_type": "markdown",
      "id": "1109d6d7",
      "metadata": {
        "id": "1109d6d7"
      },
      "source": [
        "### Градиентный бустинг"
      ]
    },
    {
      "cell_type": "code",
      "execution_count": null,
      "id": "50ac5060",
      "metadata": {
        "id": "50ac5060"
      },
      "outputs": [],
      "source": [
        "gb_fs_pipe = make_pipeline(\n",
        "    f_prep_pipeline,\n",
        "    GradientBoostingClassifier()\n",
        ")"
      ]
    },
    {
      "cell_type": "code",
      "execution_count": null,
      "id": "8167b59a",
      "metadata": {
        "id": "8167b59a"
      },
      "outputs": [],
      "source": [
        "param_grid = {\n",
        "    \"gradientboostingclassifier__max_depth\": [3, 5],\n",
        "    \"gradientboostingclassifier__n_estimators\": [50, 100]\n",
        "}"
      ]
    },
    {
      "cell_type": "code",
      "execution_count": null,
      "id": "084704e2",
      "metadata": {
        "id": "084704e2"
      },
      "outputs": [],
      "source": [
        "from sklearn.model_selection import GridSearchCV\n",
        "from sklearn.model_selection import KFold"
      ]
    },
    {
      "cell_type": "code",
      "execution_count": null,
      "id": "8f0b396e",
      "metadata": {
        "id": "8f0b396e"
      },
      "outputs": [],
      "source": [
        "kfold_cv = KFold(n_splits=3, shuffle=True, random_state=42)"
      ]
    },
    {
      "cell_type": "code",
      "execution_count": null,
      "id": "d81f607e",
      "metadata": {
        "id": "d81f607e"
      },
      "outputs": [],
      "source": [
        "def run_grid_search(estimator, X, y, params_grid, cv, scoring='f1'):\n",
        "    gsc = GridSearchCV(estimator, params_grid, scoring=scoring, cv=cv, n_jobs=-1)\n",
        "\n",
        "    gsc.fit(X, y)\n",
        "    print(\"Best %s score: %.2f\" % (scoring, gsc.best_score_))\n",
        "    print()\n",
        "    print(\"Best parameters set found on development set:\")\n",
        "    print()\n",
        "    print(gsc.best_params_)\n",
        "    print()\n",
        "    print(\"Grid scores on development set:\")\n",
        "    print()\n",
        "\n",
        "    for i, params in enumerate(gsc.cv_results_['params']):\n",
        "        print(\"%0.3f (+/-%0.03f) for %r\"\n",
        "              % (gsc.cv_results_['mean_test_score'][i], gsc.cv_results_['std_test_score'][i] * 2, params))\n",
        "\n",
        "    print()\n",
        "    \n",
        "    return gsc"
      ]
    },
    {
      "cell_type": "code",
      "execution_count": null,
      "id": "3b816986",
      "metadata": {
        "id": "3b816986",
        "outputId": "4f505bb6-ee23-498e-c411-c40a07567151"
      },
      "outputs": [
        {
          "name": "stdout",
          "output_type": "stream",
          "text": [
            "Best f1 score: 0.87\n",
            "\n",
            "Best parameters set found on development set:\n",
            "\n",
            "{'gradientboostingclassifier__max_depth': 5, 'gradientboostingclassifier__n_estimators': 50}\n",
            "\n",
            "Grid scores on development set:\n",
            "\n",
            "0.870 (+/-0.012) for {'gradientboostingclassifier__max_depth': 3, 'gradientboostingclassifier__n_estimators': 50}\n",
            "0.872 (+/-0.009) for {'gradientboostingclassifier__max_depth': 3, 'gradientboostingclassifier__n_estimators': 100}\n",
            "0.875 (+/-0.005) for {'gradientboostingclassifier__max_depth': 5, 'gradientboostingclassifier__n_estimators': 50}\n",
            "0.873 (+/-0.004) for {'gradientboostingclassifier__max_depth': 5, 'gradientboostingclassifier__n_estimators': 100}\n",
            "\n",
            "CPU times: total: 17.1 s\n",
            "Wall time: 42.7 s\n"
          ]
        }
      ],
      "source": [
        "%%time\n",
        "gb_fs_gsc = run_grid_search(gb_fs_pipe, X_train, Y_train, param_grid, kfold_cv)"
      ]
    },
    {
      "cell_type": "markdown",
      "id": "c3b91fdf",
      "metadata": {
        "id": "c3b91fdf"
      },
      "source": [
        "### Сравнение моделей"
      ]
    },
    {
      "cell_type": "code",
      "execution_count": null,
      "id": "82ab4244",
      "metadata": {
        "id": "82ab4244"
      },
      "outputs": [],
      "source": [
        "import itertools\n",
        "from sklearn.metrics import confusion_matrix\n",
        "\n",
        "def plot_confusion_matrix(cm, classes,\n",
        "                          model_name=\"\",\n",
        "                          normalize=False,\n",
        "                          cmap=plt.cm.Blues):\n",
        "    \"\"\"\n",
        "    This function prints and plots the confusion matrix.\n",
        "    Normalization can be applied by setting `normalize=True`.\n",
        "    \"\"\"\n",
        "    if normalize:\n",
        "        cm = cm.astype('float') / cm.sum(axis=1)[:, np.newaxis]\n",
        "        print(\"Normalized confusion matrix\")\n",
        "    else:\n",
        "        print('Confusion matrix, without normalization')\n",
        "\n",
        "    print(cm)\n",
        "\n",
        "    plt.imshow(cm, interpolation='nearest',  cmap=cmap)\n",
        "    \n",
        "    plt.grid(False)\n",
        "    plt.title('%s: confusion matrix' % model_name)\n",
        "    tick_marks = np.arange(len(classes))\n",
        "    plt.xticks(tick_marks, classes, rotation=45)\n",
        "    plt.yticks(tick_marks, classes)\n",
        "\n",
        "    fmt = '.2f' if normalize else 'd'\n",
        "    thresh = cm.max() / 2.\n",
        "    for i, j in itertools.product(range(cm.shape[0]), range(cm.shape[1])):\n",
        "        plt.text(j, i, format(cm[i, j], fmt),\n",
        "                 horizontalalignment=\"center\",\n",
        "                 color=\"white\" if cm[i, j] > thresh else \"black\")\n",
        "\n",
        "    plt.ylabel('True label')\n",
        "    plt.xlabel('Predicted label')\n",
        "    plt.tight_layout()"
      ]
    },
    {
      "cell_type": "code",
      "execution_count": null,
      "id": "998afc44",
      "metadata": {
        "id": "998afc44"
      },
      "outputs": [],
      "source": [
        "gb_model = gb_fs_gsc.best_estimator_\n",
        "gb_model.fit(X_train, Y_train)\n",
        "y_test_gb = gb_model.predict_proba(X_train)[:,1]"
      ]
    },
    {
      "cell_type": "code",
      "execution_count": null,
      "id": "b082adc0",
      "metadata": {
        "id": "b082adc0",
        "outputId": "9bff40c8-7e23-4117-cfe0-f7bef0e0d4df"
      },
      "outputs": [
        {
          "name": "stdout",
          "output_type": "stream",
          "text": [
            "Градиентный бустинг\n",
            "              precision    recall  f1-score   support\n",
            "\n",
            "           0       0.89      0.90      0.90      2642\n",
            "           1       0.90      0.89      0.90      2642\n",
            "\n",
            "    accuracy                           0.90      5284\n",
            "   macro avg       0.90      0.90      0.90      5284\n",
            "weighted avg       0.90      0.90      0.90      5284\n",
            "\n"
          ]
        }
      ],
      "source": [
        "print('Градиентный бустинг')\n",
        "print(classification_report(Y_train, y_test_gb > 0.5))"
      ]
    },
    {
      "cell_type": "code",
      "execution_count": null,
      "id": "1e4639a1",
      "metadata": {
        "id": "1e4639a1",
        "outputId": "996633da-6d0f-42be-e0dd-484c767a57a4"
      },
      "outputs": [
        {
          "name": "stdout",
          "output_type": "stream",
          "text": [
            "Confusion matrix, without normalization\n",
            "[[2388  254]\n",
            " [ 294 2348]]\n"
          ]
        },
        {
          "data": {
            "image/png": "[encoded data removed]",
            "text/plain": [
              "<Figure size 640x480 with 1 Axes>"
            ]
          },
          "metadata": {},
          "output_type": "display_data"
        }
      ],
      "source": [
        "cm = confusion_matrix(Y_train, y_test_gb > 0.5)\n",
        "plot_confusion_matrix(cm, classes=[\"0\", \"1\"], model_name=\"Градиентный бустинг\");"
      ]
    },
    {
      "cell_type": "code",
      "execution_count": null,
      "id": "b77ae52e",
      "metadata": {
        "id": "b77ae52e"
      },
      "outputs": [],
      "source": [
        "final_model = gb_model\n",
        "y_test_preds = final_model.predict_proba(X_test)[:,1]"
      ]
    },
    {
      "cell_type": "code",
      "execution_count": null,
      "id": "c3500a60",
      "metadata": {
        "id": "c3500a60"
      },
      "outputs": [],
      "source": [
        "y_test_preds[y_test_preds >= 0.5] = 1\n",
        "y_test_preds[y_test_preds < 0.5] = 0"
      ]
    },
    {
      "cell_type": "markdown",
      "id": "11a34b48",
      "metadata": {
        "id": "11a34b48"
      },
      "source": [
        "### Сохранение модели"
      ]
    },
    {
      "cell_type": "code",
      "execution_count": null,
      "id": "ad524821",
      "metadata": {
        "id": "ad524821"
      },
      "outputs": [],
      "source": [
        "with open(MODEL_FILE_PATH, 'wb') as f:\n",
        "    pickle.dump(final_model, f)"
      ]
    },
    {
      "cell_type": "markdown",
      "id": "dee789e5",
      "metadata": {
        "id": "dee789e5"
      },
      "source": [
        "### Сохранение прогнозов"
      ]
    },
    {
      "cell_type": "code",
      "execution_count": null,
      "id": "e28a58dd",
      "metadata": {
        "id": "e28a58dd",
        "outputId": "33e8db82-36b0-4dab-d633-1f9eb78bf5a4"
      },
      "outputs": [
        {
          "data": {
            "text/html": [
              "<div>\n",
              "<style scoped>\n",
              "    .dataframe tbody tr th:only-of-type {\n",
              "        vertical-align: middle;\n",
              "    }\n",
              "\n",
              "    .dataframe tbody tr th {\n",
              "        vertical-align: top;\n",
              "    }\n",
              "\n",
              "    .dataframe thead th {\n",
              "        text-align: right;\n",
              "    }\n",
              "</style>\n",
              "<table border=\"1\" class=\"dataframe\">\n",
              "  <thead>\n",
              "    <tr style=\"text-align: right;\">\n",
              "      <th></th>\n",
              "      <th>id</th>\n",
              "      <th>vas_id</th>\n",
              "      <th>buy_time</th>\n",
              "      <th>target</th>\n",
              "    </tr>\n",
              "  </thead>\n",
              "  <tbody>\n",
              "    <tr>\n",
              "      <th>0</th>\n",
              "      <td>3504271</td>\n",
              "      <td>5.0</td>\n",
              "      <td>2019-01-21</td>\n",
              "      <td>0.0</td>\n",
              "    </tr>\n",
              "    <tr>\n",
              "      <th>1</th>\n",
              "      <td>2543272</td>\n",
              "      <td>2.0</td>\n",
              "      <td>2019-01-14</td>\n",
              "      <td>0.0</td>\n",
              "    </tr>\n",
              "    <tr>\n",
              "      <th>2</th>\n",
              "      <td>4066976</td>\n",
              "      <td>2.0</td>\n",
              "      <td>2019-01-14</td>\n",
              "      <td>0.0</td>\n",
              "    </tr>\n",
              "    <tr>\n",
              "      <th>0</th>\n",
              "      <td>3456715</td>\n",
              "      <td>2.0</td>\n",
              "      <td>2019-01-14</td>\n",
              "      <td>0.0</td>\n",
              "    </tr>\n",
              "    <tr>\n",
              "      <th>1</th>\n",
              "      <td>3987315</td>\n",
              "      <td>5.0</td>\n",
              "      <td>2019-01-14</td>\n",
              "      <td>0.0</td>\n",
              "    </tr>\n",
              "  </tbody>\n",
              "</table>\n",
              "</div>"
            ],
            "text/plain": [
              "        id  vas_id    buy_time  target\n",
              "0  3504271     5.0  2019-01-21     0.0\n",
              "1  2543272     2.0  2019-01-14     0.0\n",
              "2  4066976     2.0  2019-01-14     0.0\n",
              "0  3456715     2.0  2019-01-14     0.0\n",
              "1  3987315     5.0  2019-01-14     0.0"
            ]
          },
          "execution_count": 48,
          "metadata": {},
          "output_type": "execute_result"
        }
      ],
      "source": [
        "df_y_pred = pd.DataFrame({'id' : X_test['id'], 'vas_id': X_test['vas_id'], 'buy_time' : X_test['buy_time'] , 'target' : y_test_preds})\n",
        "df_y_pred.to_csv(path_pred, index=False, encoding='utf-8')\n",
        "df_y_pred.head()"
      ]
    }
  ],
  "metadata": {
    "kernelspec": {
      "display_name": "Python 3 (ipykernel)",
      "language": "python",
      "name": "python3"
    },
    "language_info": {
      "codemirror_mode": {
        "name": "ipython",
        "version": 3
      },
      "file_extension": ".py",
      "mimetype": "text/x-python",
      "name": "python",
      "nbconvert_exporter": "python",
      "pygments_lexer": "ipython3",
      "version": "3.9.16"
    },
    "colab": {
      "provenance": [],
      "include_colab_link": true
    }
  },
  "nbformat": 4,
  "nbformat_minor": 5
}